{
 "cells": [
  {
   "cell_type": "markdown",
   "id": "e5b5997d",
   "metadata": {},
   "source": [
    "# Task 5: Attention-Enhanced Conditional GAN Training\n",
    "This notebook trains the self-attention CGAN (extension of Task 4) and collects metrics (loss curves, conditional accuracy, precision, recall, F1, confusion matrix)."
   ]
  },
  {
   "cell_type": "markdown",
   "id": "1680ad23",
   "metadata": {},
   "source": [
    "## 1. Environment Setup"
   ]
  },
  {
   "cell_type": "code",
   "execution_count": 9,
   "id": "79d88f09",
   "metadata": {},
   "outputs": [
    {
     "name": "stdout",
     "output_type": "stream",
     "text": [
      "Note: you may need to restart the kernel to use updated packages.\n"
     ]
    },
    {
     "name": "stderr",
     "output_type": "stream",
     "text": [
      "\n",
      "[notice] A new release of pip is available: 25.1.1 -> 25.2\n",
      "[notice] To update, run: python.exe -m pip install --upgrade pip\n"
     ]
    }
   ],
   "source": [
    "%pip install -q torch torchvision scikit-learn matplotlib seaborn transformers"
   ]
  },
  {
   "cell_type": "markdown",
   "id": "9cebd958",
   "metadata": {},
   "source": [
    "## 2. Imports & Config"
   ]
  },
  {
   "cell_type": "code",
   "execution_count": 10,
   "id": "237633c1",
   "metadata": {},
   "outputs": [],
   "source": [
    "import os, torch, numpy as np, matplotlib.pyplot as plt, seaborn as sns\n",
    "from pathlib import Path\n",
    "from sklearn.metrics import confusion_matrix, precision_recall_fscore_support\n",
    "import sys\n",
    "sys.path.append('../task4')  # Adjust the path as needed to point to the location of task4\n",
    "from gans import AttnGenerator, Discriminator, LATENT_DIM, N_CLASSES, conditional_accuracy, _build_or_load_mnist_classifier, weights_init_normal\n",
    "from torchvision import datasets, transforms, utils\n",
    "from torch import nn\n",
    "DEVICE = torch.device('cuda' if torch.cuda.is_available() else 'cpu')\n",
    "OUT='task5_outputs'; Path(OUT).mkdir(exist_ok=True)"
   ]
  },
  {
   "cell_type": "markdown",
   "id": "5e359cbf",
   "metadata": {},
   "source": [
    "## 3. Data Loader"
   ]
  },
  {
   "cell_type": "code",
   "execution_count": 11,
   "id": "4ed175b7",
   "metadata": {},
   "outputs": [],
   "source": [
    "transform = transforms.Compose([transforms.ToTensor(), transforms.Normalize([0.5],[0.5])])\n",
    "train_ds = datasets.MNIST(root='./data', train=True, download=True, transform=transform)\n",
    "loader = torch.utils.data.DataLoader(train_ds, batch_size=64, shuffle=True, num_workers=2)"
   ]
  },
  {
   "cell_type": "markdown",
   "id": "82c75b97",
   "metadata": {},
   "source": [
    "## 4. Initialize Models & Optimizers"
   ]
  },
  {
   "cell_type": "code",
   "execution_count": 12,
   "id": "c6316e4a",
   "metadata": {},
   "outputs": [],
   "source": [
    "G = AttnGenerator().to(DEVICE); D = Discriminator().to(DEVICE)\n",
    "G.apply(weights_init_normal); D.apply(weights_init_normal)\n",
    "criterion = nn.BCELoss()\n",
    "opt_G = torch.optim.Adam(G.parameters(), lr=2e-4, betas=(0.5,0.999))\n",
    "opt_D = torch.optim.Adam(D.parameters(), lr=2e-4, betas=(0.5,0.999))\n",
    "history={'g':[], 'd':[]}"
   ]
  },
  {
   "cell_type": "markdown",
   "id": "e7a3c034",
   "metadata": {},
   "source": [
    "## 5. Training Loop (Attention CGAN)"
   ]
  },
  {
   "cell_type": "code",
   "execution_count": 13,
   "id": "68736872",
   "metadata": {},
   "outputs": [
    {
     "name": "stdout",
     "output_type": "stream",
     "text": [
      "Epoch 1/10 | D 0.6093 G 1.2484\n",
      "Epoch 2/10 | D 0.6241 G 0.9620\n",
      "Epoch 2/10 | D 0.6241 G 0.9620\n",
      "Epoch 3/10 | D 0.6273 G 0.7805\n",
      "Epoch 3/10 | D 0.6273 G 0.7805\n",
      "Epoch 4/10 | D 0.6345 G 0.8345\n",
      "Epoch 4/10 | D 0.6345 G 0.8345\n",
      "Epoch 5/10 | D 0.6727 G 0.7418\n",
      "Epoch 5/10 | D 0.6727 G 0.7418\n",
      "Epoch 6/10 | D 0.6893 G 0.7703\n",
      "Epoch 6/10 | D 0.6893 G 0.7703\n",
      "Epoch 7/10 | D 0.6746 G 0.7274\n",
      "Epoch 7/10 | D 0.6746 G 0.7274\n",
      "Epoch 8/10 | D 0.6857 G 0.7657\n",
      "Epoch 8/10 | D 0.6857 G 0.7657\n",
      "Epoch 9/10 | D 0.6730 G 0.7417\n",
      "Epoch 9/10 | D 0.6730 G 0.7417\n",
      "Epoch 10/10 | D 0.6640 G 0.7565\n",
      "Epoch 10/10 | D 0.6640 G 0.7565\n"
     ]
    }
   ],
   "source": [
    "EPOCHS=10\n",
    "sample_every=2\n",
    "for epoch in range(1,EPOCHS+1):\n",
    "    for imgs, labels in loader:\n",
    "        imgs, labels = imgs.to(DEVICE), labels.to(DEVICE)\n",
    "        b = imgs.size(0)\n",
    "        valid = torch.ones(b,1,device=DEVICE); fake = torch.zeros(b,1,device=DEVICE)\n",
    "        # Train D\n",
    "        opt_D.zero_grad()\n",
    "        z = torch.randn(b, LATENT_DIM, device=DEVICE)\n",
    "        gen = G(z, labels)\n",
    "        real_loss = criterion(D(imgs, labels), valid)\n",
    "        fake_loss = criterion(D(gen.detach(), labels), fake)\n",
    "        d_loss = (real_loss + fake_loss)/2; d_loss.backward(); opt_D.step()\n",
    "        # Train G\n",
    "        opt_G.zero_grad()\n",
    "        g_loss = criterion(D(gen, labels), valid); g_loss.backward(); opt_G.step()\n",
    "    history['g'].append(g_loss.item()); history['d'].append(d_loss.item())\n",
    "    if epoch % sample_every==0:\n",
    "        with torch.no_grad():\n",
    "            z = torch.randn(25, LATENT_DIM, device=DEVICE)\n",
    "            lab = torch.arange(25, device=DEVICE) % N_CLASSES\n",
    "            imgs_s = G(z, lab)*0.5+0.5\n",
    "            utils.save_image(imgs_s, f'{OUT}/epoch_{epoch}.png', nrow=5)\n",
    "    print(f'Epoch {epoch}/{EPOCHS} | D {d_loss.item():.4f} G {g_loss.item():.4f}')\n",
    "torch.save(G.state_dict(), f'{OUT}/attn_generator.pt')\n",
    "torch.save(D.state_dict(), f'{OUT}/discriminatortask5.pt')"
   ]
  },
  {
   "cell_type": "markdown",
   "id": "ee429968",
   "metadata": {},
   "source": [
    "## 6. Loss Curves"
   ]
  },
  {
   "cell_type": "code",
   "execution_count": 14,
   "id": "1365e544",
   "metadata": {},
   "outputs": [
    {
     "data": {
      "image/png": "[encoded data removed]",
      "text/plain": [
       "<Figure size 640x480 with 1 Axes>"
      ]
     },
     "metadata": {},
     "output_type": "display_data"
    }
   ],
   "source": [
    "plt.plot(history['d'], label='D'); plt.plot(history['g'], label='G'); plt.legend(); plt.xlabel('Epoch'); plt.ylabel('Loss'); plt.title('Task5 Attention CGAN Loss'); plt.savefig(f'{OUT}/loss_curves.png'); plt.show()"
   ]
  },
  {
   "cell_type": "markdown",
   "id": "1644426e",
   "metadata": {},
   "source": [
    "## 7. Conditional Accuracy & Metrics"
   ]
  },
  {
   "cell_type": "code",
   "execution_count": 15,
   "id": "3dae1a9e",
   "metadata": {},
   "outputs": [
    {
     "data": {
      "text/plain": [
       "{'accuracy': np.float64(0.779),\n",
       " 'precision': 0.8650293037920667,\n",
       " 'recall': 0.779,\n",
       " 'f1': 0.7617952821362226}"
      ]
     },
     "execution_count": 15,
     "metadata": {},
     "output_type": "execute_result"
    }
   ],
   "source": [
    "clf = _build_or_load_mnist_classifier(DEVICE)\n",
    "metrics = conditional_accuracy(G, clf, DEVICE)\n",
    "metrics"
   ]
  },
  {
   "cell_type": "markdown",
   "id": "241d9bc4",
   "metadata": {},
   "source": [
    "## 8. Confusion Matrix Visualization"
   ]
  },
  {
   "cell_type": "code",
   "execution_count": 16,
   "id": "87946ea7",
   "metadata": {},
   "outputs": [
    {
     "data": {
      "image/png": "[encoded data removed]",
      "text/plain": [
       "<Figure size 640x480 with 2 Axes>"
      ]
     },
     "metadata": {},
     "output_type": "display_data"
    }
   ],
   "source": [
    "import numpy as np\n",
    "labels = torch.arange(0,10, device=DEVICE).repeat_interleave(100)\n",
    "with torch.no_grad():\n",
    "    z = torch.randn(len(labels), LATENT_DIM, device=DEVICE)\n",
    "    imgs = G(z, labels) * 0.5 + 0.5\n",
    "preds = torch.argmax(clf((imgs-imgs.min())/(imgs.max()-imgs.min()+1e-8)), dim=1)\n",
    "cm = confusion_matrix(labels.cpu().numpy(), preds.cpu().numpy())\n",
    "sns.heatmap(cm, annot=False, cmap='Blues'); plt.title('Confusion Matrix'); plt.savefig(f'{OUT}/confusion_matrix.png'); plt.show()"
   ]
  },
  {
   "cell_type": "markdown",
   "id": "91729b40",
   "metadata": {},
   "source": [
    "## 9. Export Metrics"
   ]
  },
  {
   "cell_type": "code",
   "execution_count": 17,
   "id": "929c5ac4",
   "metadata": {},
   "outputs": [
    {
     "data": {
      "text/plain": [
       "{'accuracy': np.float64(0.779),\n",
       " 'precision': 0.8650293037920667,\n",
       " 'recall': 0.779,\n",
       " 'f1': 0.7617952821362226}"
      ]
     },
     "execution_count": 17,
     "metadata": {},
     "output_type": "execute_result"
    }
   ],
   "source": [
    "import json\n",
    "with open(f'{OUT}/metrics.json','w') as f: json.dump(metrics, f, indent=2)\n",
    "metrics"
   ]
  },
  {
   "cell_type": "markdown",
   "id": "7d712c82",
   "metadata": {},
   "source": [
    "## 10. Summary\n",
    "Training complete. Review images, loss curves, metrics, and confusion matrix in the output directory."
   ]
  }
 ],
 "metadata": {
  "kernelspec": {
   "display_name": ".venv",
   "language": "python",
   "name": "python3"
  },
  "language_info": {
   "codemirror_mode": {
    "name": "ipython",
    "version": 3
   },
   "file_extension": ".py",
   "mimetype": "text/x-python",
   "name": "python",
   "nbconvert_exporter": "python",
   "pygments_lexer": "ipython3",
   "version": "3.11.0"
  }
 },
 "nbformat": 4,
 "nbformat_minor": 5
}
